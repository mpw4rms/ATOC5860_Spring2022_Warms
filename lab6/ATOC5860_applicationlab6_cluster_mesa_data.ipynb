{
 "cells": [
  {
   "cell_type": "code",
   "execution_count": 1,
   "metadata": {
    "id": "eNFpvL8GgSj-"
   },
   "outputs": [],
   "source": [
    "### ATOC5860 - Application Lab #6\n",
    "### K-means Clustering of Meteorological Station Data using the NCAR Mesa Data in Boulder, Colorado\n",
    "### Coded by: Eleanor Middlemas and Jennifer E. Kay (University of Colorado)\n",
    "### Last updated April 5, 2022\n",
    "\n",
    "%matplotlib inline\n",
    "import numpy as np\n",
    "import matplotlib.pyplot as plt\n",
    "from scipy import stats\n",
    "import scipy.signal as sig\n",
    "from matplotlib.gridspec import GridSpec\n",
    "import timeit\n",
    "import scipy.io as sio"
   ]
  },
  {
   "cell_type": "markdown",
   "metadata": {
    "id": "YLVkxxfIgSkA"
   },
   "source": [
    "Here, we will use [K-means clustering](https://en.wikipedia.org/wiki/K-means_clustering) to classify weather data into different clusters.  Each cluster might look like a season.  Why would we cluster weather observations?  We already know which observations are in which season by looking at the date. But we all know that a day in February sometimes feels like summer and a day in September can feel like winter.  We often have multiple seasons in a single week... So this could be quite fun to see how the algorithm decides how to cluster our data and assign each day to a \"season\". :) <br>"
   ]
  },
  {
   "cell_type": "markdown",
   "metadata": {
    "id": "lHHS96q8OoWe"
   },
   "source": [
    "**STEP 1: Import packages and functions we will use**"
   ]
  },
  {
   "cell_type": "code",
   "execution_count": 2,
   "metadata": {
    "executionInfo": {
     "elapsed": 623,
     "status": "ok",
     "timestamp": 1648568015025,
     "user": {
      "displayName": "Jennifer Kay",
      "userId": "16174518716664596646"
     },
     "user_tz": 360
    },
    "id": "eWFoGflLgSkB"
   },
   "outputs": [],
   "source": [
    "import pandas as pd\n",
    "import numpy as np\n",
    "import datetime\n",
    "from scipy.cluster.vq import vq, kmeans, whiten\n",
    "import matplotlib.pyplot as plt"
   ]
  },
  {
   "cell_type": "markdown",
   "metadata": {
    "id": "z7JkU8fPhIFl"
   },
   "source": [
    "You will be working with weather data from the [NCAR Mesa Laboratory in Boulder, Colorado](https://en.wikipedia.org/wiki/Mesa_Laboratory). We'll call this dataset the \"Mesa dataset\". The data go from 2016-2021.  Prof. Kay's munging code is up [on github](https://github.com/jenkayco/ATOC4500_Spring2022/tree/main/mesadata_process).  Information on the site and the instruments is [here](https://www.eol.ucar.edu/content/ncar-foothills-lab-weather-station-information).  Real-time data from the site is [here](https://archive.eol.ucar.edu/cgi-bin/weather.cgi?site=ml&period=5-minute&fields=tdry&fields=rh&fields=cpres0&fields=wspd&fields=wdir&fields=raina&units=english). An example of what some of the munging might look like for this dataset is [here](https://ncar.github.io/esds/posts/2021/weather-station-data-preprocess/).  *Note: Each year in this dataset has 365 days.  Leap year data (i.e., Feb. 29 data for 2016 and 2020 have been excluded.)* <br>"
   ]
  },
  {
   "cell_type": "markdown",
   "metadata": {
    "id": "sLFzRkcsgSkB"
   },
   "source": [
    "**STEP 2: Read in the Data and Look At It**"
   ]
  },
  {
   "cell_type": "code",
   "execution_count": 3,
   "metadata": {
    "colab": {
     "base_uri": "https://localhost:8080/",
     "height": 90,
     "resources": {
      "http://localhost:8080/nbextensions/google.colab/files.js": {
       "data": "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",
       "headers": [
        [
         "content-type",
         "application/javascript"
        ]
       ],
       "ok": true,
       "status": 200,
       "status_text": ""
      }
     }
    },
    "executionInfo": {
     "elapsed": 41647,
     "status": "ok",
     "timestamp": 1648568056668,
     "user": {
      "displayName": "Jennifer Kay",
      "userId": "16174518716664596646"
     },
     "user_tz": 360
    },
    "id": "y3KIpxh3gSkC",
    "outputId": "336a94b6-4abb-431a-c08f-cb87c2b7e308"
   },
   "outputs": [
    {
     "name": "stdout",
     "output_type": "stream",
     "text": [
      "              day  hour_UTC     pres_mb  tdry_degC  rh_percent   wdir  \\\n",
      "0      2016-01-01       0.0  817.400024       -7.7   72.099998  316.0   \n",
      "1      2016-01-01       1.0  817.599976       -8.1   74.699997  327.0   \n",
      "2      2016-01-01       2.0  818.099976       -8.0   70.500000  227.0   \n",
      "3      2016-01-01       3.0  818.500000       -8.1   69.599998  220.0   \n",
      "4      2016-01-01       4.0  818.799988      -10.0   70.900002  336.0   \n",
      "...           ...       ...         ...        ...         ...    ...   \n",
      "52555  2021-12-31      19.0  794.200012       -2.3   77.500000  154.0   \n",
      "52556  2021-12-31      20.0  793.599976       -2.6   77.500000  172.0   \n",
      "52557  2021-12-31      21.0  793.500000       -2.9   78.199997  171.0   \n",
      "52558  2021-12-31      22.0  793.799988       -2.9   84.900002  125.0   \n",
      "52559  2021-12-31      23.0  794.500000       -4.3   86.199997   90.0   \n",
      "\n",
      "       wspd_m_per_s  wspdmax_m_per_s  raina_event_mm  year  \n",
      "0               2.2              3.0             0.0  2016  \n",
      "1               0.9              1.3             0.0  2016  \n",
      "2               1.7              2.8             0.0  2016  \n",
      "3               1.6              2.9             0.0  2016  \n",
      "4               0.9              2.2             0.0  2016  \n",
      "...             ...              ...             ...   ...  \n",
      "52555           6.5              9.6             0.0  2021  \n",
      "52556           7.5             10.2             0.0  2021  \n",
      "52557           5.2              8.5             0.0  2021  \n",
      "52558           2.5              4.6             0.0  2021  \n",
      "52559           0.9              2.4             0.0  2021  \n",
      "\n",
      "[52560 rows x 10 columns]\n",
      "(52560, 10)\n"
     ]
    }
   ],
   "source": [
    "### Read in your data\n",
    "df = pd.read_csv(\"NCAR_mesa_data_2016-2021_withmissing.csv\")\n",
    "### Preview the values in the data frame by printing it\n",
    "print(df)\n",
    "### Print the Shape of the data frame\n",
    "print(df.shape)"
   ]
  },
  {
   "cell_type": "code",
   "execution_count": 4,
   "metadata": {
    "colab": {
     "base_uri": "https://localhost:8080/"
    },
    "executionInfo": {
     "elapsed": 262,
     "status": "ok",
     "timestamp": 1648568059152,
     "user": {
      "displayName": "Jennifer Kay",
      "userId": "16174518716664596646"
     },
     "user_tz": 360
    },
    "id": "pIKDvNiIhAr1",
    "outputId": "d7318055-47fc-4db5-b8e9-efbd6cd8b003"
   },
   "outputs": [
    {
     "name": "stdout",
     "output_type": "stream",
     "text": [
      "How many days are in this dataset?: 2190\n",
      "nyrs*ndays=2190\n",
      "0        2016-01-01\n",
      "1        2016-01-01\n",
      "2        2016-01-01\n",
      "3        2016-01-01\n",
      "4        2016-01-01\n",
      "            ...    \n",
      "52555    2021-12-31\n",
      "52556    2021-12-31\n",
      "52557    2021-12-31\n",
      "52558    2021-12-31\n",
      "52559    2021-12-31\n",
      "Name: day, Length: 52560, dtype: object\n"
     ]
    }
   ],
   "source": [
    "### Check out the available days in this dataset\n",
    "print(f'How many days are in this dataset?: {df.day.nunique()}')\n",
    "print(f'nyrs*ndays={6*365}')\n",
    "## check that the day format is a readable date\n",
    "print(df['day'])"
   ]
  },
  {
   "cell_type": "markdown",
   "metadata": {
    "colab": {
     "base_uri": "https://localhost:8080/"
    },
    "executionInfo": {
     "elapsed": 273,
     "status": "ok",
     "timestamp": 1648568067078,
     "user": {
      "displayName": "Jennifer Kay",
      "userId": "16174518716664596646"
     },
     "user_tz": 360
    },
    "id": "jnevQ6j712W6",
    "outputId": "82a3f556-6cad-466d-e732-c0e337989d91"
   },
   "source": [
    "**STEP 3: Add the month-based season as a variable to your data frame**"
   ]
  },
  {
   "cell_type": "code",
   "execution_count": 5,
   "metadata": {
    "colab": {
     "base_uri": "https://localhost:8080/",
     "height": 424
    },
    "executionInfo": {
     "elapsed": 264,
     "status": "ok",
     "timestamp": 1648568189148,
     "user": {
      "displayName": "Jennifer Kay",
      "userId": "16174518716664596646"
     },
     "user_tz": 360
    },
    "id": "kpy4OODafjmF",
    "outputId": "57c4e0fe-9693-4b15-8160-5f9b366e1244"
   },
   "outputs": [
    {
     "data": {
      "text/html": [
       "<div>\n",
       "<style scoped>\n",
       "    .dataframe tbody tr th:only-of-type {\n",
       "        vertical-align: middle;\n",
       "    }\n",
       "\n",
       "    .dataframe tbody tr th {\n",
       "        vertical-align: top;\n",
       "    }\n",
       "\n",
       "    .dataframe thead th {\n",
       "        text-align: right;\n",
       "    }\n",
       "</style>\n",
       "<table border=\"1\" class=\"dataframe\">\n",
       "  <thead>\n",
       "    <tr style=\"text-align: right;\">\n",
       "      <th></th>\n",
       "      <th>day</th>\n",
       "      <th>hour_UTC</th>\n",
       "      <th>pres_mb</th>\n",
       "      <th>tdry_degC</th>\n",
       "      <th>rh_percent</th>\n",
       "      <th>wdir</th>\n",
       "      <th>wspd_m_per_s</th>\n",
       "      <th>wspdmax_m_per_s</th>\n",
       "      <th>raina_event_mm</th>\n",
       "      <th>year</th>\n",
       "      <th>season</th>\n",
       "    </tr>\n",
       "  </thead>\n",
       "  <tbody>\n",
       "    <tr>\n",
       "      <th>0</th>\n",
       "      <td>2016-01-01</td>\n",
       "      <td>0.0</td>\n",
       "      <td>817.400024</td>\n",
       "      <td>-7.7</td>\n",
       "      <td>72.099998</td>\n",
       "      <td>316.0</td>\n",
       "      <td>2.2</td>\n",
       "      <td>3.0</td>\n",
       "      <td>0.0</td>\n",
       "      <td>2016</td>\n",
       "      <td>1</td>\n",
       "    </tr>\n",
       "    <tr>\n",
       "      <th>1</th>\n",
       "      <td>2016-01-01</td>\n",
       "      <td>1.0</td>\n",
       "      <td>817.599976</td>\n",
       "      <td>-8.1</td>\n",
       "      <td>74.699997</td>\n",
       "      <td>327.0</td>\n",
       "      <td>0.9</td>\n",
       "      <td>1.3</td>\n",
       "      <td>0.0</td>\n",
       "      <td>2016</td>\n",
       "      <td>1</td>\n",
       "    </tr>\n",
       "    <tr>\n",
       "      <th>2</th>\n",
       "      <td>2016-01-01</td>\n",
       "      <td>2.0</td>\n",
       "      <td>818.099976</td>\n",
       "      <td>-8.0</td>\n",
       "      <td>70.500000</td>\n",
       "      <td>227.0</td>\n",
       "      <td>1.7</td>\n",
       "      <td>2.8</td>\n",
       "      <td>0.0</td>\n",
       "      <td>2016</td>\n",
       "      <td>1</td>\n",
       "    </tr>\n",
       "    <tr>\n",
       "      <th>3</th>\n",
       "      <td>2016-01-01</td>\n",
       "      <td>3.0</td>\n",
       "      <td>818.500000</td>\n",
       "      <td>-8.1</td>\n",
       "      <td>69.599998</td>\n",
       "      <td>220.0</td>\n",
       "      <td>1.6</td>\n",
       "      <td>2.9</td>\n",
       "      <td>0.0</td>\n",
       "      <td>2016</td>\n",
       "      <td>1</td>\n",
       "    </tr>\n",
       "    <tr>\n",
       "      <th>4</th>\n",
       "      <td>2016-01-01</td>\n",
       "      <td>4.0</td>\n",
       "      <td>818.799988</td>\n",
       "      <td>-10.0</td>\n",
       "      <td>70.900002</td>\n",
       "      <td>336.0</td>\n",
       "      <td>0.9</td>\n",
       "      <td>2.2</td>\n",
       "      <td>0.0</td>\n",
       "      <td>2016</td>\n",
       "      <td>1</td>\n",
       "    </tr>\n",
       "    <tr>\n",
       "      <th>...</th>\n",
       "      <td>...</td>\n",
       "      <td>...</td>\n",
       "      <td>...</td>\n",
       "      <td>...</td>\n",
       "      <td>...</td>\n",
       "      <td>...</td>\n",
       "      <td>...</td>\n",
       "      <td>...</td>\n",
       "      <td>...</td>\n",
       "      <td>...</td>\n",
       "      <td>...</td>\n",
       "    </tr>\n",
       "    <tr>\n",
       "      <th>52555</th>\n",
       "      <td>2021-12-31</td>\n",
       "      <td>19.0</td>\n",
       "      <td>794.200012</td>\n",
       "      <td>-2.3</td>\n",
       "      <td>77.500000</td>\n",
       "      <td>154.0</td>\n",
       "      <td>6.5</td>\n",
       "      <td>9.6</td>\n",
       "      <td>0.0</td>\n",
       "      <td>2021</td>\n",
       "      <td>1</td>\n",
       "    </tr>\n",
       "    <tr>\n",
       "      <th>52556</th>\n",
       "      <td>2021-12-31</td>\n",
       "      <td>20.0</td>\n",
       "      <td>793.599976</td>\n",
       "      <td>-2.6</td>\n",
       "      <td>77.500000</td>\n",
       "      <td>172.0</td>\n",
       "      <td>7.5</td>\n",
       "      <td>10.2</td>\n",
       "      <td>0.0</td>\n",
       "      <td>2021</td>\n",
       "      <td>1</td>\n",
       "    </tr>\n",
       "    <tr>\n",
       "      <th>52557</th>\n",
       "      <td>2021-12-31</td>\n",
       "      <td>21.0</td>\n",
       "      <td>793.500000</td>\n",
       "      <td>-2.9</td>\n",
       "      <td>78.199997</td>\n",
       "      <td>171.0</td>\n",
       "      <td>5.2</td>\n",
       "      <td>8.5</td>\n",
       "      <td>0.0</td>\n",
       "      <td>2021</td>\n",
       "      <td>1</td>\n",
       "    </tr>\n",
       "    <tr>\n",
       "      <th>52558</th>\n",
       "      <td>2021-12-31</td>\n",
       "      <td>22.0</td>\n",
       "      <td>793.799988</td>\n",
       "      <td>-2.9</td>\n",
       "      <td>84.900002</td>\n",
       "      <td>125.0</td>\n",
       "      <td>2.5</td>\n",
       "      <td>4.6</td>\n",
       "      <td>0.0</td>\n",
       "      <td>2021</td>\n",
       "      <td>1</td>\n",
       "    </tr>\n",
       "    <tr>\n",
       "      <th>52559</th>\n",
       "      <td>2021-12-31</td>\n",
       "      <td>23.0</td>\n",
       "      <td>794.500000</td>\n",
       "      <td>-4.3</td>\n",
       "      <td>86.199997</td>\n",
       "      <td>90.0</td>\n",
       "      <td>0.9</td>\n",
       "      <td>2.4</td>\n",
       "      <td>0.0</td>\n",
       "      <td>2021</td>\n",
       "      <td>1</td>\n",
       "    </tr>\n",
       "  </tbody>\n",
       "</table>\n",
       "<p>52560 rows × 11 columns</p>\n",
       "</div>"
      ],
      "text/plain": [
       "              day  hour_UTC     pres_mb  tdry_degC  rh_percent   wdir  \\\n",
       "0      2016-01-01       0.0  817.400024       -7.7   72.099998  316.0   \n",
       "1      2016-01-01       1.0  817.599976       -8.1   74.699997  327.0   \n",
       "2      2016-01-01       2.0  818.099976       -8.0   70.500000  227.0   \n",
       "3      2016-01-01       3.0  818.500000       -8.1   69.599998  220.0   \n",
       "4      2016-01-01       4.0  818.799988      -10.0   70.900002  336.0   \n",
       "...           ...       ...         ...        ...         ...    ...   \n",
       "52555  2021-12-31      19.0  794.200012       -2.3   77.500000  154.0   \n",
       "52556  2021-12-31      20.0  793.599976       -2.6   77.500000  172.0   \n",
       "52557  2021-12-31      21.0  793.500000       -2.9   78.199997  171.0   \n",
       "52558  2021-12-31      22.0  793.799988       -2.9   84.900002  125.0   \n",
       "52559  2021-12-31      23.0  794.500000       -4.3   86.199997   90.0   \n",
       "\n",
       "       wspd_m_per_s  wspdmax_m_per_s  raina_event_mm  year  season  \n",
       "0               2.2              3.0             0.0  2016       1  \n",
       "1               0.9              1.3             0.0  2016       1  \n",
       "2               1.7              2.8             0.0  2016       1  \n",
       "3               1.6              2.9             0.0  2016       1  \n",
       "4               0.9              2.2             0.0  2016       1  \n",
       "...             ...              ...             ...   ...     ...  \n",
       "52555           6.5              9.6             0.0  2021       1  \n",
       "52556           7.5             10.2             0.0  2021       1  \n",
       "52557           5.2              8.5             0.0  2021       1  \n",
       "52558           2.5              4.6             0.0  2021       1  \n",
       "52559           0.9              2.4             0.0  2021       1  \n",
       "\n",
       "[52560 rows x 11 columns]"
      ]
     },
     "execution_count": 5,
     "metadata": {},
     "output_type": "execute_result"
    }
   ],
   "source": [
    "## add a new variable called \"season\" to the dataframe df\n",
    "## this variable contains the season defined traditionally based on the month: \n",
    "## DJF=winter, MAM=spring, JJA=summer, SON=fall\n",
    "\n",
    "## use a dictionary to define seasons from months\n",
    "### define the seasons as DJF=winter=1, MAM=spring=2, JJA=summer=3, SON=fall=4\n",
    "\n",
    "seasons = {(1, 12, 2): 1, (3, 4, 5): 2, (6, 7, 8): 3, (9, 10, 11): 4}\n",
    "## define a function to assign seasons to months using the dictionary\n",
    "def season(ser):\n",
    "    for k in seasons.keys():\n",
    "        if ser in k:\n",
    "            return seasons[k]\n",
    "\n",
    "## apply the function season to one time in my dataset as a sanity check\n",
    "#print(df['day'][5000].month)\n",
    "#print(season(df['day'][5000].month))\n",
    "\n",
    "## apply it to all times in my dataset - check\n",
    "#for month in pd.DatetimeIndex(df['day']).month[-5000:-4890]:\n",
    "#  print(season(month))\n",
    "\n",
    "## apply the function season to all times in my dataset\n",
    "df['season']=[season(month) for month in pd.DatetimeIndex(df['day']).month]\n",
    "\n",
    "#check random value values\n",
    "#df['season'][5000]\n",
    "\n",
    "## check the data frame to see if there is a new variable called \"season\"\n",
    "df"
   ]
  },
  {
   "cell_type": "markdown",
   "metadata": {
    "id": "sTWsznQBP6ud"
   },
   "source": [
    "**STEP 4: Select Data To Use, Convert data into a Numpy Array, Look at data again!**"
   ]
  },
  {
   "cell_type": "code",
   "execution_count": 6,
   "metadata": {
    "colab": {
     "base_uri": "https://localhost:8080/",
     "height": 441
    },
    "executionInfo": {
     "elapsed": 303,
     "status": "ok",
     "timestamp": 1648570285230,
     "user": {
      "displayName": "Jennifer Kay",
      "userId": "16174518716664596646"
     },
     "user_tz": 360
    },
    "id": "GDNttXzZgSkE",
    "outputId": "7fc513e6-8465-4b19-d67b-df11f381aac2"
   },
   "outputs": [
    {
     "name": "stdout",
     "output_type": "stream",
     "text": [
      "2190\n"
     ]
    },
    {
     "data": {
      "text/html": [
       "<div>\n",
       "<style scoped>\n",
       "    .dataframe tbody tr th:only-of-type {\n",
       "        vertical-align: middle;\n",
       "    }\n",
       "\n",
       "    .dataframe tbody tr th {\n",
       "        vertical-align: top;\n",
       "    }\n",
       "\n",
       "    .dataframe thead th {\n",
       "        text-align: right;\n",
       "    }\n",
       "</style>\n",
       "<table border=\"1\" class=\"dataframe\">\n",
       "  <thead>\n",
       "    <tr style=\"text-align: right;\">\n",
       "      <th></th>\n",
       "      <th>day</th>\n",
       "      <th>hour_UTC</th>\n",
       "      <th>pres_mb</th>\n",
       "      <th>tdry_degC</th>\n",
       "      <th>rh_percent</th>\n",
       "      <th>wdir</th>\n",
       "      <th>wspd_m_per_s</th>\n",
       "      <th>wspdmax_m_per_s</th>\n",
       "      <th>raina_event_mm</th>\n",
       "      <th>year</th>\n",
       "      <th>season</th>\n",
       "    </tr>\n",
       "  </thead>\n",
       "  <tbody>\n",
       "    <tr>\n",
       "      <th>17</th>\n",
       "      <td>2016-01-01</td>\n",
       "      <td>17.0</td>\n",
       "      <td>818.000000</td>\n",
       "      <td>-1.7</td>\n",
       "      <td>30.799999</td>\n",
       "      <td>107.0</td>\n",
       "      <td>0.9</td>\n",
       "      <td>2.300000</td>\n",
       "      <td>0.0</td>\n",
       "      <td>2016</td>\n",
       "      <td>1</td>\n",
       "    </tr>\n",
       "    <tr>\n",
       "      <th>41</th>\n",
       "      <td>2016-01-02</td>\n",
       "      <td>17.0</td>\n",
       "      <td>817.000000</td>\n",
       "      <td>3.6</td>\n",
       "      <td>16.799999</td>\n",
       "      <td>107.0</td>\n",
       "      <td>1.5</td>\n",
       "      <td>2.800000</td>\n",
       "      <td>0.0</td>\n",
       "      <td>2016</td>\n",
       "      <td>1</td>\n",
       "    </tr>\n",
       "    <tr>\n",
       "      <th>65</th>\n",
       "      <td>2016-01-03</td>\n",
       "      <td>17.0</td>\n",
       "      <td>816.599976</td>\n",
       "      <td>4.8</td>\n",
       "      <td>23.100000</td>\n",
       "      <td>85.0</td>\n",
       "      <td>1.0</td>\n",
       "      <td>2.700000</td>\n",
       "      <td>0.0</td>\n",
       "      <td>2016</td>\n",
       "      <td>1</td>\n",
       "    </tr>\n",
       "    <tr>\n",
       "      <th>89</th>\n",
       "      <td>2016-01-04</td>\n",
       "      <td>17.0</td>\n",
       "      <td>810.400024</td>\n",
       "      <td>4.5</td>\n",
       "      <td>32.400002</td>\n",
       "      <td>341.0</td>\n",
       "      <td>0.6</td>\n",
       "      <td>1.200000</td>\n",
       "      <td>0.0</td>\n",
       "      <td>2016</td>\n",
       "      <td>1</td>\n",
       "    </tr>\n",
       "    <tr>\n",
       "      <th>113</th>\n",
       "      <td>2016-01-05</td>\n",
       "      <td>17.0</td>\n",
       "      <td>805.099976</td>\n",
       "      <td>6.4</td>\n",
       "      <td>25.799999</td>\n",
       "      <td>351.0</td>\n",
       "      <td>2.5</td>\n",
       "      <td>3.300000</td>\n",
       "      <td>0.0</td>\n",
       "      <td>2016</td>\n",
       "      <td>1</td>\n",
       "    </tr>\n",
       "    <tr>\n",
       "      <th>...</th>\n",
       "      <td>...</td>\n",
       "      <td>...</td>\n",
       "      <td>...</td>\n",
       "      <td>...</td>\n",
       "      <td>...</td>\n",
       "      <td>...</td>\n",
       "      <td>...</td>\n",
       "      <td>...</td>\n",
       "      <td>...</td>\n",
       "      <td>...</td>\n",
       "      <td>...</td>\n",
       "    </tr>\n",
       "    <tr>\n",
       "      <th>52457</th>\n",
       "      <td>2021-12-27</td>\n",
       "      <td>17.0</td>\n",
       "      <td>799.500000</td>\n",
       "      <td>2.7</td>\n",
       "      <td>30.299999</td>\n",
       "      <td>147.0</td>\n",
       "      <td>4.1</td>\n",
       "      <td>6.100000</td>\n",
       "      <td>0.0</td>\n",
       "      <td>2021</td>\n",
       "      <td>1</td>\n",
       "    </tr>\n",
       "    <tr>\n",
       "      <th>52481</th>\n",
       "      <td>2021-12-28</td>\n",
       "      <td>17.0</td>\n",
       "      <td>793.799988</td>\n",
       "      <td>-3.6</td>\n",
       "      <td>45.099998</td>\n",
       "      <td>8.0</td>\n",
       "      <td>3.1</td>\n",
       "      <td>6.000000</td>\n",
       "      <td>0.0</td>\n",
       "      <td>2021</td>\n",
       "      <td>1</td>\n",
       "    </tr>\n",
       "    <tr>\n",
       "      <th>52505</th>\n",
       "      <td>2021-12-29</td>\n",
       "      <td>17.0</td>\n",
       "      <td>798.099976</td>\n",
       "      <td>-4.9</td>\n",
       "      <td>42.299999</td>\n",
       "      <td>122.0</td>\n",
       "      <td>2.4</td>\n",
       "      <td>4.700000</td>\n",
       "      <td>0.0</td>\n",
       "      <td>2021</td>\n",
       "      <td>1</td>\n",
       "    </tr>\n",
       "    <tr>\n",
       "      <th>52529</th>\n",
       "      <td>2021-12-30</td>\n",
       "      <td>17.0</td>\n",
       "      <td>791.799988</td>\n",
       "      <td>3.4</td>\n",
       "      <td>25.900000</td>\n",
       "      <td>222.0</td>\n",
       "      <td>7.4</td>\n",
       "      <td>22.299999</td>\n",
       "      <td>0.0</td>\n",
       "      <td>2021</td>\n",
       "      <td>1</td>\n",
       "    </tr>\n",
       "    <tr>\n",
       "      <th>52553</th>\n",
       "      <td>2021-12-31</td>\n",
       "      <td>17.0</td>\n",
       "      <td>795.799988</td>\n",
       "      <td>-3.1</td>\n",
       "      <td>81.699997</td>\n",
       "      <td>162.0</td>\n",
       "      <td>5.7</td>\n",
       "      <td>8.000000</td>\n",
       "      <td>0.0</td>\n",
       "      <td>2021</td>\n",
       "      <td>1</td>\n",
       "    </tr>\n",
       "  </tbody>\n",
       "</table>\n",
       "<p>2190 rows × 11 columns</p>\n",
       "</div>"
      ],
      "text/plain": [
       "              day  hour_UTC     pres_mb  tdry_degC  rh_percent   wdir  \\\n",
       "17     2016-01-01      17.0  818.000000       -1.7   30.799999  107.0   \n",
       "41     2016-01-02      17.0  817.000000        3.6   16.799999  107.0   \n",
       "65     2016-01-03      17.0  816.599976        4.8   23.100000   85.0   \n",
       "89     2016-01-04      17.0  810.400024        4.5   32.400002  341.0   \n",
       "113    2016-01-05      17.0  805.099976        6.4   25.799999  351.0   \n",
       "...           ...       ...         ...        ...         ...    ...   \n",
       "52457  2021-12-27      17.0  799.500000        2.7   30.299999  147.0   \n",
       "52481  2021-12-28      17.0  793.799988       -3.6   45.099998    8.0   \n",
       "52505  2021-12-29      17.0  798.099976       -4.9   42.299999  122.0   \n",
       "52529  2021-12-30      17.0  791.799988        3.4   25.900000  222.0   \n",
       "52553  2021-12-31      17.0  795.799988       -3.1   81.699997  162.0   \n",
       "\n",
       "       wspd_m_per_s  wspdmax_m_per_s  raina_event_mm  year  season  \n",
       "17              0.9         2.300000             0.0  2016       1  \n",
       "41              1.5         2.800000             0.0  2016       1  \n",
       "65              1.0         2.700000             0.0  2016       1  \n",
       "89              0.6         1.200000             0.0  2016       1  \n",
       "113             2.5         3.300000             0.0  2016       1  \n",
       "...             ...              ...             ...   ...     ...  \n",
       "52457           4.1         6.100000             0.0  2021       1  \n",
       "52481           3.1         6.000000             0.0  2021       1  \n",
       "52505           2.4         4.700000             0.0  2021       1  \n",
       "52529           7.4        22.299999             0.0  2021       1  \n",
       "52553           5.7         8.000000             0.0  2021       1  \n",
       "\n",
       "[2190 rows x 11 columns]"
      ]
     },
     "execution_count": 6,
     "metadata": {},
     "output_type": "execute_result"
    }
   ],
   "source": [
    "#### select the time\n",
    "\n",
    "##Only select a certain time \n",
    "##Note: time is in UTC. Noon in Colorado depends on daylight savings.\n",
    "## For simplicity just starting with 4 UTC (9/10 pm in Denver).  could also use 17 UTC (Noon/1 pm in Denver)\n",
    "selectedhourUTC=17 ## added so that there is a variable that sets the selected hour for the rest of the notebook.\n",
    "selectdf = df[df.hour_UTC==selectedhourUTC] ## \n",
    "print(len(selectdf))\n",
    "\n",
    "### tinker later (code that you may want to \"borrow\" later in this notebook)\n",
    "#selectdf = df # try selecting all data instead of just noon data\n",
    "\n",
    "selectdf"
   ]
  },
  {
   "cell_type": "code",
   "execution_count": 7,
   "metadata": {
    "colab": {
     "base_uri": "https://localhost:8080/"
    },
    "executionInfo": {
     "elapsed": 8,
     "status": "ok",
     "timestamp": 1648570285357,
     "user": {
      "displayName": "Jennifer Kay",
      "userId": "16174518716664596646"
     },
     "user_tz": 360
    },
    "id": "XWf7APBtS8Vk",
    "outputId": "2bb29a3f-32fe-4e8c-f5d4-426cff137166"
   },
   "outputs": [
    {
     "name": "stdout",
     "output_type": "stream",
     "text": [
      "Your data are now 2190 observations over 7 variables: (2190, 7)\n",
      "(2190, 7)\n"
     ]
    }
   ],
   "source": [
    "## Select variables of interest. Aside variables are called \"features\" by some in the ML world.\n",
    "included_cols = ['pres_mb','tdry_degC','rh_percent','wdir','wspd_m_per_s','wspdmax_m_per_s','raina_event_mm'] \n",
    "\n",
    "## convert to a numpy array for model input and leave out the time dimensions day & hour, and wind directions.\n",
    "data = selectdf.loc[:, selectdf.columns.isin(list(included_cols))].to_numpy()\n",
    "\n",
    "## check the shape of your data -- should be (6*365,7) (nyrs*ndays, variable)\n",
    "print(f'Your data are now 2190 observations over 7 variables: {np.shape(data)}')\n",
    "print(data.shape)"
   ]
  },
  {
   "cell_type": "code",
   "execution_count": 8,
   "metadata": {
    "colab": {
     "base_uri": "https://localhost:8080/"
    },
    "executionInfo": {
     "elapsed": 7,
     "status": "ok",
     "timestamp": 1648570285357,
     "user": {
      "displayName": "Jennifer Kay",
      "userId": "16174518716664596646"
     },
     "user_tz": 360
    },
    "id": "oG1Tk6NOQzq2",
    "outputId": "d4abf10d-4746-43eb-f8de-0d3ff65cb2c1"
   },
   "outputs": [],
   "source": [
    "### option to check out quick plots of your data...\n",
    "### say yes first time through - double check your input, ALWAYS.\n",
    "quickplot = 'no'\n",
    "if quickplot == 'yes':\n",
    "  ## Quick plots of your data\n",
    "  for i in np.arange(0,np.shape(data)[1]):\n",
    "    plt.plot(data[:,i]);\n",
    "    plt.title(included_cols[i])\n",
    "    plt.xticks(ticks=np.arange(0,len(data)+365,365)) ###\n",
    "    plt.xlabel('Days since Jan 1, 2016')\n",
    "    plt.show()"
   ]
  },
  {
   "cell_type": "markdown",
   "metadata": {
    "id": "6yTNPa5xZ2lA"
   },
   "source": [
    "**STEP 5: Replace missing data.**  There are missing values in the Mesa dataset. Before you use the data in the k-means clustering algorithm - you need to replace missing data with a real value.  There are a couple of options below for how to do this.  If you would like to code it up (add to the code base!!), you are also welcome to experiment with other options (e.g., interpolate, randomly select values)."
   ]
  },
  {
   "cell_type": "code",
   "execution_count": 9,
   "metadata": {
    "colab": {
     "base_uri": "https://localhost:8080/"
    },
    "executionInfo": {
     "elapsed": 5,
     "status": "ok",
     "timestamp": 1648570285358,
     "user": {
      "displayName": "Jennifer Kay",
      "userId": "16174518716664596646"
     },
     "user_tz": 360
    },
    "id": "ZpG_5Ul6Z0v2",
    "outputId": "de4d9405-f249-441f-8bbb-9966c544510d"
   },
   "outputs": [
    {
     "name": "stdout",
     "output_type": "stream",
     "text": [
      "(2190, 7)\n"
     ]
    }
   ],
   "source": [
    "## copy the data array into a new array without missing values called (data_nomissing)\n",
    "data_nomissing=data.copy();\n",
    "print(data_nomissing.shape)\n",
    "\n",
    "option_missing='option1'\n",
    "\n",
    "##### OPTION #1 - replace the NaN data with the mean value for that season.  Simple!\n",
    "if option_missing=='option1':\n",
    "  season=selectdf['season'];\n",
    "  #print(len(season))\n",
    "\n",
    "  ## this is the actual season from the definition in the season dictionary above\n",
    "  season_idx=df['season'][df.hour_UTC==4].to_numpy()\n",
    "  #print(season_idx.shape)\n",
    "  ## find all of the days in winter, i.e., where season_idx=1\n",
    "  winteridx=np.nonzero(np.where(season_idx==1,1,0))\n",
    "  ## loop over variables\n",
    "  for i in np.arange(0,len(included_cols)):\n",
    "    data_nomissing[winteridx,i]=np.where(np.isnan(data[winteridx,i])==True,np.nanmean(data[winteridx,i]),data[winteridx,i])\n",
    "  ## find all of the days in spring, i.e., where season_idx=2\n",
    "  springidx=np.nonzero(np.where(season_idx==2,1,0))\n",
    "  ## loop over variables\n",
    "  for i in np.arange(0,len(included_cols)):\n",
    "    data_nomissing[springidx,i]=np.where(np.isnan(data[springidx,i])==True,np.nanmean(data[springidx,i]),data[springidx,i])\n",
    "  ## find all of the days in summer, i.e., where season_idx=3\n",
    "  summeridx=np.nonzero(np.where(season_idx==3,1,0))\n",
    "  ## loop over variables\n",
    "  for i in np.arange(0,len(included_cols)):\n",
    "    data_nomissing[summeridx,i]=np.where(np.isnan(data[summeridx,i])==True,np.nanmean(data[summeridx,i]),data[summeridx,i])\n",
    "  ## find all of the days in fall, i.e., where season_idx=4\n",
    "  fallidx=np.nonzero(np.where(season_idx==4,1,0))\n",
    "  ## loop over variables\n",
    "  for i in np.arange(0,len(included_cols)):\n",
    "    data_nomissing[fallidx,i]=np.where(np.isnan(data[fallidx,i])==True,np.nanmean(data[fallidx,i]),data[fallidx,i])\n"
   ]
  },
  {
   "cell_type": "code",
   "execution_count": 10,
   "metadata": {
    "colab": {
     "base_uri": "https://localhost:8080/"
    },
    "executionInfo": {
     "elapsed": 188,
     "status": "ok",
     "timestamp": 1648570285542,
     "user": {
      "displayName": "Jennifer Kay",
      "userId": "16174518716664596646"
     },
     "user_tz": 360
    },
    "id": "bRMqIoKvOwHJ",
    "outputId": "af75a24e-e743-486d-82f8-3bce2a1487e8"
   },
   "outputs": [
    {
     "name": "stdout",
     "output_type": "stream",
     "text": [
      "take the mean of the variable data exluding missing data: 146.90404589424074\n",
      "take the mean of the variable data: nan\n",
      "take the mean of the variable data_nomissing: 146.85374602814528\n"
     ]
    }
   ],
   "source": [
    "##### plot your data to see what they look like after you have dealt with nan (i.e., missing data)\n",
    "quickplot = 'no'\n",
    "if quickplot == 'yes':\n",
    "  ## Quick plots of your data\n",
    "  for i in np.arange(0,np.shape(data_nomissing)[1]):\n",
    "    plt.plot(data_nomissing[:,i]);\n",
    "    plt.title(included_cols[i])\n",
    "    plt.show()\n",
    "\n",
    "### if np.mean for data_nomissing is a real value - we have removed all the missing values!\n",
    "print(f'take the mean of the variable data exluding missing data: {np.nanmean(data)}')\n",
    "print(f'take the mean of the variable data: {np.mean(data)}')\n",
    "print(f'take the mean of the variable data_nomissing: {np.mean(data_nomissing)}')"
   ]
  },
  {
   "cell_type": "markdown",
   "metadata": {
    "id": "2PI_p3pdgSkF"
   },
   "source": [
    "**STEP 6: Recale your data to have unit variance**. *Why? Since clustering among features depends on distance, we need to scale all of our features so that all features have equal variance. We don't want the clustering to be dominated by the feature with the largest variance...*"
   ]
  },
  {
   "cell_type": "code",
   "execution_count": 11,
   "metadata": {
    "colab": {
     "base_uri": "https://localhost:8080/"
    },
    "executionInfo": {
     "elapsed": 3,
     "status": "ok",
     "timestamp": 1648570285542,
     "user": {
      "displayName": "Jennifer Kay",
      "userId": "16174518716664596646"
     },
     "user_tz": 360
    },
    "id": "5U9T50LHgSkF",
    "outputId": "e47cee03-6d30-4c4e-d50d-01d029ce82de"
   },
   "outputs": [
    {
     "name": "stdout",
     "output_type": "stream",
     "text": [
      "LOOK AT YOUR DATA: shape should be (days, variable), more specifically (366,8): (2190, 7)\n",
      "mean of each variable\n",
      "[1.41574238e+02 1.16958660e+00 1.91227693e+00 1.38266836e+00\n",
      " 1.33689970e+00 1.45833903e+00 5.41231188e-02]\n",
      "standard deviation of each variable\n",
      "[1. 1. 1. 1. 1. 1. 1.]\n",
      "<class 'numpy.ndarray'>\n"
     ]
    }
   ],
   "source": [
    "## https://docs.scipy.org/doc/scipy/reference/generated/scipy.cluster.vq.whiten.html\n",
    "#\"Before running k-means, it is beneficial to rescale each feature dimension of the observation \n",
    "#set by its standard deviation (i.e. “whiten” it - as in “white noise” where each frequency has equal power). \n",
    "#Each feature is divided by its standard deviation across all observations to give it unit variance.\"\n",
    "scaled_data = whiten(data_nomissing) # sci-kit learn's function to standardize data in the clustering toolbox\n",
    "#scaled_data = data.copy() # uncomment to NOT whiten, but still enable this notebook to run without modifications\n",
    "\n",
    "## Check that you end up with the same shape as the original data...\n",
    "print(f'LOOK AT YOUR DATA: shape should be (days, variable), more specifically (366,8): {np.shape(scaled_data)}')\n",
    "\n",
    "print('mean of each variable')\n",
    "print(np.mean(scaled_data,axis=0))\n",
    "print('standard deviation of each variable')\n",
    "print(np.std(scaled_data,axis=0))\n",
    "\n",
    "### print the type of scaled_data\n",
    "print(type(scaled_data))"
   ]
  },
  {
   "cell_type": "code",
   "execution_count": 12,
   "metadata": {
    "colab": {
     "base_uri": "https://localhost:8080/",
     "height": 265
    },
    "executionInfo": {
     "elapsed": 300,
     "status": "ok",
     "timestamp": 1648570285841,
     "user": {
      "displayName": "Jennifer Kay",
      "userId": "16174518716664596646"
     },
     "user_tz": 360
    },
    "id": "a9Ik2BeugSkE",
    "outputId": "5010e99d-029e-43c9-a6c2-7e8b9954be42"
   },
   "outputs": [
    {
     "data": {
      "image/png": "[encoded data removed]",
      "text/plain": [
       "<Figure size 720x432 with 1 Axes>"
      ]
     },
     "metadata": {
      "needs_background": "light"
     },
     "output_type": "display_data"
    }
   ],
   "source": [
    "## check out quick plots of scaled_data... always take this option.\n",
    "## note: we did not remove the mean...\n",
    "plt.figure(figsize = (10,6))\n",
    "quickplot = 'yes'\n",
    "if quickplot == 'yes':\n",
    "  ## Quick plots of your data\n",
    "  for i in np.arange(0,np.shape(scaled_data)[1]):\n",
    "    plt.plot(scaled_data[:,i],label=included_cols[i]);\n",
    "    ## check what happens when you uncomment the two lines below\n",
    "    #plt.title(included_cols[i])\n",
    "    #plt.show()\n",
    "  plt.legend()"
   ]
  },
  {
   "cell_type": "markdown",
   "metadata": {
    "id": "KQKxkO9ygSkD"
   },
   "source": [
    "**STEP 7: Use K-means clustering to look for patterns in the data**"
   ]
  },
  {
   "cell_type": "code",
   "execution_count": 13,
   "metadata": {
    "executionInfo": {
     "elapsed": 3,
     "status": "ok",
     "timestamp": 1648570285842,
     "user": {
      "displayName": "Jennifer Kay",
      "userId": "16174518716664596646"
     },
     "user_tz": 360
    },
    "id": "6fizfxrMgSkF"
   },
   "outputs": [],
   "source": [
    "## select the number of clusters (i.e., here the number of seasons you want to try to identify using the weather data)\n",
    "NO_CLUSTERS = 5 # use 4 clusters - see if you get out 4 seasons of winter, fall, spring, summer\n",
    "\n",
    "## do the clustering, return centroids (i.e., Coordinates of cluster centers.)\n",
    "## https://scikit-learn.org/stable/modules/generated/sklearn.cluster.KMeans.html\n",
    "## https://docs.scipy.org/doc/scipy/reference/generated/scipy.cluster.vq.kmeans.html\n",
    "centroids, _  = kmeans(scaled_data,NO_CLUSTERS,iter=20)"
   ]
  },
  {
   "cell_type": "code",
   "execution_count": 14,
   "metadata": {},
   "outputs": [
    {
     "name": "stdout",
     "output_type": "stream",
     "text": [
      "Here is the cluster idx for each day of the year:\n",
      "(2190,)\n"
     ]
    }
   ],
   "source": [
    "## find an index (idx) that is the label for each value in your dataset (i.e, each day at noon)\n",
    "## https://docs.scipy.org/doc/scipy/reference/generated/scipy.cluster.vq.vq.html\n",
    "idx, _ = vq(scaled_data,centroids) # vq returns cluster idx for each observation\n",
    "\n",
    "## add 1 so that idx is also 1-based like df['season']\n",
    "idx=idx+1\n",
    "\n",
    "print('Here is the cluster idx for each day of the year:') \n",
    "print(idx.shape) # prints K-mean's season label for each day"
   ]
  },
  {
   "cell_type": "markdown",
   "metadata": {
    "id": "89eyKerKgSkG"
   },
   "source": [
    "**STEP 8: Visualize your results**."
   ]
  },
  {
   "cell_type": "code",
   "execution_count": 15,
   "metadata": {
    "colab": {
     "base_uri": "https://localhost:8080/",
     "height": 312
    },
    "executionInfo": {
     "elapsed": 367,
     "status": "ok",
     "timestamp": 1648570751928,
     "user": {
      "displayName": "Jennifer Kay",
      "userId": "16174518716664596646"
     },
     "user_tz": 360
    },
    "id": "HE-19jv8Shgy",
    "outputId": "8cf35172-7d9a-46ca-b667-8767c6adf3d6"
   },
   "outputs": [
    {
     "data": {
      "image/png": "[encoded data removed]",
      "text/plain": [
       "<Figure size 720x432 with 1 Axes>"
      ]
     },
     "metadata": {
      "needs_background": "light"
     },
     "output_type": "display_data"
    }
   ],
   "source": [
    "### Make a quick plot to show the index results\n",
    "plt.figure(figsize = (10,6))\n",
    "\n",
    "### plot each year\n",
    "plt.plot(idx[0:365],'.',label='2016');\n",
    "plt.plot(idx[365:365*2]+0.1,'.',label='2017');\n",
    "plt.plot(idx[365*2:365*3]+0.2,'.',label='2018');\n",
    "plt.plot(idx[365*3:365*4]+0.3,'.',label='2019');\n",
    "plt.plot(idx[365*4:365*5]+0.4,'.',label='2020');\n",
    "plt.plot(idx[365*5:365*6]+0.5,'.',label='2021');\n",
    "#plt.legend(loc='best');\n",
    "plt.legend(bbox_to_anchor=(1, 0.75), loc='upper left', ncol=1);\n",
    "plt.yticks(np.arange(1,NO_CLUSTERS+1),labels=['cluster1','cluster2','cluster3', 'cluster4', 'cluster5']);\n",
    "plt.xlabel('Day of the year')\n",
    "plt.title('Seasonal cycle of cluster assignment by Year');"
   ]
  },
  {
   "cell_type": "code",
   "execution_count": 23,
   "metadata": {
    "colab": {
     "base_uri": "https://localhost:8080/",
     "height": 429
    },
    "executionInfo": {
     "elapsed": 654,
     "status": "ok",
     "timestamp": 1648570801218,
     "user": {
      "displayName": "Jennifer Kay",
      "userId": "16174518716664596646"
     },
     "user_tz": 360
    },
    "id": "jUXeQ92cecUl",
    "outputId": "66a0d99b-26af-40c4-f7f2-6686bfa912b0"
   },
   "outputs": [
    {
     "data": {
      "image/png": "[encoded data removed]",
      "text/plain": [
       "<Figure size 720x432 with 1 Axes>"
      ]
     },
     "metadata": {
      "needs_background": "light"
     },
     "output_type": "display_data"
    }
   ],
   "source": [
    "#### OH! Here's a prettier plot contributed by Rachel Mooers (ATOC Undergrad)\n",
    "\n",
    "fig, ax = plt.subplots(figsize=(10, 6))\n",
    "\n",
    "ax.set_xlabel('Day of the Year', fontsize=14)\n",
    "ax.set_ylabel('Cluster Index', fontsize=14)\n",
    "ax.set_xlim(0,365)\n",
    "ax.set_ylim(0.5,6)\n",
    "\n",
    "ax.fill_between(range(len(idx))[0:79], [0]*len(range(len(idx))[0:79]), [6]*len(range(len(idx))[0:79]), color='lightcyan') \n",
    "ax.fill_between(range(len(idx))[79:172], [0]*len(range(len(idx))[79:172]), [6]*len(range(len(idx))[79:172]), color='honeydew') \n",
    "ax.fill_between(range(len(idx))[172:263], [0]*len(range(len(idx))[172:263]), [6]*len(range(len(idx))[172:263]), color='seashell') \n",
    "ax.fill_between(range(len(idx))[263:355], [0]*len(range(len(idx))[263:355]), [6]*len(range(len(idx))[263:355]), color='lightgoldenrodyellow') \n",
    "ax.fill_between(range(len(idx))[355:366], [0]*len(range(len(idx))[355:366]), [6]*len(range(len(idx))[355:366]), color='lightcyan') \n",
    "\n",
    "ax.plot(idx[0:365],'.',label='2016');\n",
    "ax.plot(idx[365:365*2]+0.1,'.',label='2017');\n",
    "ax.plot(idx[365*2:365*3]+0.2,'.',label='2018');\n",
    "ax.plot(idx[365*3:365*4]+0.3,'.',label='2019');\n",
    "ax.plot(idx[365*4:365*5]+0.4,'.',label='2020');\n",
    "ax.plot(idx[365*5:365*6]+0.5,'.',label='2021');\n",
    "\n",
    "#plt.legend(loc='best');\n",
    "plt.legend(bbox_to_anchor=(1, 0.75), loc='upper left', ncol=1);\n",
    "plt.yticks(np.arange(1,NO_CLUSTERS+1),labels=['cluster1','cluster2','cluster3', 'cluster4', 'cluster5']);\n",
    "ax.set_title('Seasonal cycle of cluster assignment by Year', fontsize=17);\n",
    "\n",
    "ax.text(22, 5.7, 'Winter',  fontsize=15, color='cornflowerblue');\n",
    "ax.text(108, 5.7, 'Spring',  fontsize=15, color='limegreen');\n",
    "ax.text(195, 5.7, 'Summer',  fontsize=15, color='tomato');\n",
    "ax.text(300, 5.7, 'Fall',  fontsize=15, color='Goldenrod');"
   ]
  },
  {
   "cell_type": "markdown",
   "metadata": {
    "id": "xyHzB1CtSn5-"
   },
   "source": [
    "What is the plot in the cell above this question showing?  What information is it providing to you about the results?  What have you learned about the seasonal occurrence of the different clusters by looking at it?"
   ]
  },
  {
   "cell_type": "code",
   "execution_count": 40,
   "metadata": {
    "colab": {
     "base_uri": "https://localhost:8080/",
     "height": 727
    },
    "executionInfo": {
     "elapsed": 6651,
     "status": "ok",
     "timestamp": 1648570292844,
     "user": {
      "displayName": "Jennifer Kay",
      "userId": "16174518716664596646"
     },
     "user_tz": 360
    },
    "id": "vZDf4euLgSkG",
    "outputId": "318d983f-7519-4ce4-ac66-883bf1433bde"
   },
   "outputs": [
    {
     "name": "stdout",
     "output_type": "stream",
     "text": [
      "plotting these variables: ['tdry_degC', 'wspd_m_per_s']\n"
     ]
    },
    {
     "ename": "IndexError",
     "evalue": "list index out of range",
     "output_type": "error",
     "traceback": [
      "\u001b[1;31m---------------------------------------------------------------------------\u001b[0m",
      "\u001b[1;31mIndexError\u001b[0m                                Traceback (most recent call last)",
      "\u001b[1;32m~\\AppData\\Local\\Temp/ipykernel_9128/1541741905.py\u001b[0m in \u001b[0;36m<module>\u001b[1;34m\u001b[0m\n\u001b[0;32m     26\u001b[0m \u001b[0mplt\u001b[0m\u001b[1;33m.\u001b[0m\u001b[0mtitle\u001b[0m\u001b[1;33m(\u001b[0m\u001b[1;34m'K-means classification with '\u001b[0m \u001b[1;33m+\u001b[0m \u001b[0mstr\u001b[0m\u001b[1;33m(\u001b[0m\u001b[0mNO_CLUSTERS\u001b[0m\u001b[1;33m)\u001b[0m \u001b[1;33m+\u001b[0m \u001b[1;34m' Clusters'\u001b[0m\u001b[1;33m,\u001b[0m\u001b[0mfontsize\u001b[0m\u001b[1;33m=\u001b[0m\u001b[1;36m22\u001b[0m\u001b[1;33m)\u001b[0m\u001b[1;33m\u001b[0m\u001b[1;33m\u001b[0m\u001b[0m\n\u001b[0;32m     27\u001b[0m \u001b[1;32mfor\u001b[0m \u001b[1;33m(\u001b[0m\u001b[0mind\u001b[0m\u001b[1;33m,\u001b[0m\u001b[0mval\u001b[0m\u001b[1;33m)\u001b[0m \u001b[1;32min\u001b[0m \u001b[0menumerate\u001b[0m\u001b[1;33m(\u001b[0m\u001b[0mnp\u001b[0m\u001b[1;33m.\u001b[0m\u001b[0mtranspose\u001b[0m\u001b[1;33m(\u001b[0m\u001b[0mdata2plot\u001b[0m\u001b[1;33m)\u001b[0m\u001b[1;33m)\u001b[0m\u001b[1;33m:\u001b[0m\u001b[1;33m\u001b[0m\u001b[1;33m\u001b[0m\u001b[0m\n\u001b[1;32m---> 28\u001b[1;33m     \u001b[0mplt\u001b[0m\u001b[1;33m.\u001b[0m\u001b[0mplot\u001b[0m\u001b[1;33m(\u001b[0m\u001b[0mval\u001b[0m\u001b[1;33m[\u001b[0m\u001b[1;36m0\u001b[0m\u001b[1;33m]\u001b[0m\u001b[1;33m,\u001b[0m\u001b[0mval\u001b[0m\u001b[1;33m[\u001b[0m\u001b[1;36m1\u001b[0m\u001b[1;33m]\u001b[0m\u001b[1;33m,\u001b[0m\u001b[1;34m\".\"\u001b[0m\u001b[1;33m,\u001b[0m \u001b[0mcolor\u001b[0m\u001b[1;33m=\u001b[0m\u001b[0mcols\u001b[0m\u001b[1;33m[\u001b[0m\u001b[0midx\u001b[0m\u001b[1;33m[\u001b[0m\u001b[0mind\u001b[0m\u001b[1;33m]\u001b[0m\u001b[1;33m]\u001b[0m\u001b[1;33m,\u001b[0m \u001b[0mmarkersize\u001b[0m\u001b[1;33m=\u001b[0m\u001b[1;36m10\u001b[0m\u001b[1;33m,\u001b[0m \u001b[0mmarkerfacecolor\u001b[0m \u001b[1;33m=\u001b[0m \u001b[1;34m'none'\u001b[0m\u001b[1;33m)\u001b[0m\u001b[1;33m\u001b[0m\u001b[1;33m\u001b[0m\u001b[0m\n\u001b[0m\u001b[0;32m     29\u001b[0m \u001b[0mplt\u001b[0m\u001b[1;33m.\u001b[0m\u001b[0mxticks\u001b[0m\u001b[1;33m(\u001b[0m\u001b[0mfontsize\u001b[0m\u001b[1;33m=\u001b[0m\u001b[1;36m18\u001b[0m\u001b[1;33m)\u001b[0m\u001b[1;33m\u001b[0m\u001b[1;33m\u001b[0m\u001b[0m\n\u001b[0;32m     30\u001b[0m \u001b[0mplt\u001b[0m\u001b[1;33m.\u001b[0m\u001b[0myticks\u001b[0m\u001b[1;33m(\u001b[0m\u001b[0mfontsize\u001b[0m\u001b[1;33m=\u001b[0m\u001b[1;36m18\u001b[0m\u001b[1;33m)\u001b[0m\u001b[1;33m\u001b[0m\u001b[1;33m\u001b[0m\u001b[0m\n",
      "\u001b[1;31mIndexError\u001b[0m: list index out of range"
     ]
    },
    {
     "data": {
      "image/png": "[encoded data removed]",
      "text/plain": [
       "<Figure size 576x360 with 1 Axes>"
      ]
     },
     "metadata": {
      "needs_background": "light"
     },
     "output_type": "display_data"
    }
   ],
   "source": [
    "## Create a few xy scatter plots, where points are colored by \"season\" (from clustering algorithm).\n",
    "\n",
    "### Pick any two variables that are a part of included_cols\n",
    "### ['pres_mb','tdry_degC','rh_percent','wdir','wspd_m_per_s','wspdmax_m_per_s','raina_event_mm'] \n",
    "##print(included_cols)\n",
    "\n",
    "##### PLOT #1\n",
    "\n",
    "### select two variables and put them in vars2plot - # format (x, y)\n",
    "vars2plot = ['tdry_degC','wspd_m_per_s']\n",
    "print(f'plotting these variables: {vars2plot}')\n",
    "\n",
    "data2plot = [data[:,included_cols.index(var)] for var in vars2plot]\n",
    "\n",
    "## find the integer index of the variable to plot\n",
    "varidx2plot=np.zeros(2,dtype=\"int\")\n",
    "for i in np.arange(0,2):\n",
    "  #print(vars2plot[i])\n",
    "  varidx2plot[i]=included_cols.index(vars2plot[i])\n",
    "#print(varidx2plot)\n",
    "\n",
    "### Next plot these variables as the original valueswith colors to identify the associated cluster\n",
    "# (red=1, blue=2, grey=3, orange=4)\n",
    "cols = ['','red','blue','grey','orange']\n",
    "plt.figure(figsize=(8,5))\n",
    "plt.title('K-means classification with ' + str(NO_CLUSTERS) + ' Clusters',fontsize=22)\n",
    "for (ind,val) in enumerate(np.transpose(data2plot)):\n",
    "    plt.plot(val[0],val[1],\".\", color=cols[idx[ind]], markersize=10, markerfacecolor = 'none')\n",
    "plt.xticks(fontsize=18)\n",
    "plt.yticks(fontsize=18)\n",
    "plt.xlabel(vars2plot[0],fontsize=18);\n",
    "plt.ylabel(vars2plot[1],fontsize=18);\n",
    "plt.show()\n",
    "\n",
    "### You can also plot these variables as scaled values with the cluster centers\n",
    "#plt.figure(figsize=(8,5))\n",
    "#plt.title('K-means classification with ' + str(NO_CLUSTERS) + ' Clusters',fontsize=22)\n",
    "##plt.scatter(scaled_data[:, varidx2plot[0]], scaled_data[:, varidx2plot[1]])\n",
    "#plt.scatter(centroids[:, varidx2plot[0]], centroids[:, varidx2plot[1]],color='red',marker='*',s=1000)\n",
    "#plt.xticks(fontsize=18)\n",
    "#plt.yticks(fontsize=18)\n",
    "#plt.xlabel('scaled '+vars2plot[0],fontsize=18);\n",
    "#plt.ylabel('scaled '+vars2plot[1],fontsize=18);\n",
    "#plt.show()\n",
    "\n",
    "##### PLOT #2\n",
    "\n",
    "### select two variables and put them in vars2plot - # format (x, y)\n",
    "vars2plot = ['wdir','rh_percent']\n",
    "#print(f'plotting these variables: {vars2plot}')\n",
    "\n",
    "data2plot = [data[:,included_cols.index(var)] for var in vars2plot]\n",
    "\n",
    "## find the integer index of the variable to plot\n",
    "varidx2plot=np.zeros(2,dtype=\"int\")\n",
    "for i in np.arange(0,2):\n",
    "  varidx2plot[i]=included_cols.index(vars2plot[i])\n",
    "\n",
    "### Now plot these variables as the original valueswith colors to identify the associated cluster\n",
    "# (red=1, blue=2, grey=3, orange=4)\n",
    "# cols = ['', 'red', 'blue', 'grey', 'orange', 'black']\n",
    "\n",
    "plt.figure(figsize=(8,5))\n",
    "plt.title('K-means classification with ' + str(NO_CLUSTERS) + ' Clusters',fontsize=22)\n",
    "for (ind,val) in enumerate(np.transpose(data2plot)):\n",
    "    plt.plot(val[0],val[1],\".\", color=cols[idx[ind]], markersize=10, markerfacecolor = 'none')\n",
    "plt.xticks(fontsize=18)\n",
    "plt.yticks(fontsize=18)\n",
    "plt.xlabel(vars2plot[0],fontsize=18);\n",
    "plt.ylabel(vars2plot[1],fontsize=18);\n",
    "\n",
    "### You can also plot these variables as scaled values with the cluster centers\n",
    "#plt.figure(figsize=(8,5))\n",
    "#plt.title('K-means classification with ' + str(NO_CLUSTERS) + ' Clusters',fontsize=22)\n",
    "##plt.scatter(scaled_data[:, varidx2plot[0]], scaled_data[:, varidx2plot[1]])\n",
    "#plt.scatter(centroids[:, varidx2plot[0]], centroids[:, varidx2plot[1]],color='red',marker='*',s=1000)\n",
    "#plt.xticks(fontsize=18)\n",
    "#plt.yticks(fontsize=18)\n",
    "#plt.xlabel('scaled '+vars2plot[0],fontsize=18);\n",
    "#plt.ylabel('scaled '+vars2plot[1],fontsize=18);\n",
    "#plt.show()"
   ]
  },
  {
   "cell_type": "code",
   "execution_count": 39,
   "metadata": {},
   "outputs": [
    {
     "data": {
      "text/plain": [
       "['', 'red', 'blue', 'grey', 'orange', 'black']"
      ]
     },
     "execution_count": 39,
     "metadata": {},
     "output_type": "execute_result"
    }
   ],
   "source": [
    "idx[ind]\n",
    "cols = ['', 'red', 'blue', 'grey', 'orange', 'black']\n",
    "cols"
   ]
  },
  {
   "cell_type": "code",
   "execution_count": 24,
   "metadata": {
    "colab": {
     "base_uri": "https://localhost:8080/",
     "height": 679
    },
    "executionInfo": {
     "elapsed": 15681,
     "status": "ok",
     "timestamp": 1648571004714,
     "user": {
      "displayName": "Jennifer Kay",
      "userId": "16174518716664596646"
     },
     "user_tz": 360
    },
    "id": "bAvAaOlwfDLx",
    "outputId": "93b9719d-004e-4c5e-f039-5e38e9780655"
   },
   "outputs": [
    {
     "name": "stdout",
     "output_type": "stream",
     "text": [
      "plotting these variables: ['wdir', 'tdry_degC', 'rh_percent']\n",
      "3\n",
      "wdir\n",
      "tdry_degC\n",
      "rh_percent\n",
      "[3 1 2]\n"
     ]
    },
    {
     "ename": "IndexError",
     "evalue": "list index out of range",
     "output_type": "error",
     "traceback": [
      "\u001b[1;31m---------------------------------------------------------------------------\u001b[0m",
      "\u001b[1;31mIndexError\u001b[0m                                Traceback (most recent call last)",
      "\u001b[1;32m~\\AppData\\Local\\Temp/ipykernel_9128/303209601.py\u001b[0m in \u001b[0;36m<module>\u001b[1;34m\u001b[0m\n\u001b[0;32m     20\u001b[0m \u001b[0max\u001b[0m\u001b[1;33m.\u001b[0m\u001b[0mset_title\u001b[0m\u001b[1;33m(\u001b[0m\u001b[1;34m'K-means classification with '\u001b[0m \u001b[1;33m+\u001b[0m \u001b[0mstr\u001b[0m\u001b[1;33m(\u001b[0m\u001b[0mNO_CLUSTERS\u001b[0m\u001b[1;33m)\u001b[0m \u001b[1;33m+\u001b[0m \u001b[1;34m' Clusters'\u001b[0m\u001b[1;33m,\u001b[0m\u001b[0mfontsize\u001b[0m\u001b[1;33m=\u001b[0m\u001b[1;36m22\u001b[0m\u001b[1;33m)\u001b[0m\u001b[1;33m\u001b[0m\u001b[1;33m\u001b[0m\u001b[0m\n\u001b[0;32m     21\u001b[0m \u001b[1;32mfor\u001b[0m \u001b[1;33m(\u001b[0m\u001b[0mind\u001b[0m\u001b[1;33m,\u001b[0m\u001b[0mval\u001b[0m\u001b[1;33m)\u001b[0m \u001b[1;32min\u001b[0m \u001b[0menumerate\u001b[0m\u001b[1;33m(\u001b[0m\u001b[0mnp\u001b[0m\u001b[1;33m.\u001b[0m\u001b[0mtranspose\u001b[0m\u001b[1;33m(\u001b[0m\u001b[0mdata2plot\u001b[0m\u001b[1;33m)\u001b[0m\u001b[1;33m)\u001b[0m\u001b[1;33m:\u001b[0m\u001b[1;33m\u001b[0m\u001b[1;33m\u001b[0m\u001b[0m\n\u001b[1;32m---> 22\u001b[1;33m     \u001b[0max\u001b[0m\u001b[1;33m.\u001b[0m\u001b[0mscatter\u001b[0m\u001b[1;33m(\u001b[0m\u001b[0mval\u001b[0m\u001b[1;33m[\u001b[0m\u001b[1;36m0\u001b[0m\u001b[1;33m]\u001b[0m\u001b[1;33m,\u001b[0m\u001b[0mval\u001b[0m\u001b[1;33m[\u001b[0m\u001b[1;36m1\u001b[0m\u001b[1;33m]\u001b[0m\u001b[1;33m,\u001b[0m\u001b[0mval\u001b[0m\u001b[1;33m[\u001b[0m\u001b[1;36m2\u001b[0m\u001b[1;33m]\u001b[0m\u001b[1;33m,\u001b[0m\u001b[1;34m\".\"\u001b[0m\u001b[1;33m,\u001b[0m \u001b[0mcolor\u001b[0m\u001b[1;33m=\u001b[0m\u001b[0mcols\u001b[0m\u001b[1;33m[\u001b[0m\u001b[0midx\u001b[0m\u001b[1;33m[\u001b[0m\u001b[0mind\u001b[0m\u001b[1;33m]\u001b[0m\u001b[1;33m]\u001b[0m\u001b[1;33m)\u001b[0m\u001b[1;33m\u001b[0m\u001b[1;33m\u001b[0m\u001b[0m\n\u001b[0m\u001b[0;32m     23\u001b[0m \u001b[0max\u001b[0m\u001b[1;33m.\u001b[0m\u001b[0mset_xlabel\u001b[0m\u001b[1;33m(\u001b[0m\u001b[1;34m'scaled '\u001b[0m\u001b[1;33m+\u001b[0m\u001b[0mvars2plot\u001b[0m\u001b[1;33m[\u001b[0m\u001b[1;36m0\u001b[0m\u001b[1;33m]\u001b[0m\u001b[1;33m,\u001b[0m\u001b[0mfontsize\u001b[0m\u001b[1;33m=\u001b[0m\u001b[1;36m15\u001b[0m\u001b[1;33m)\u001b[0m\u001b[1;33m;\u001b[0m\u001b[1;33m\u001b[0m\u001b[1;33m\u001b[0m\u001b[0m\n\u001b[0;32m     24\u001b[0m \u001b[0max\u001b[0m\u001b[1;33m.\u001b[0m\u001b[0mset_ylabel\u001b[0m\u001b[1;33m(\u001b[0m\u001b[1;34m'scaled '\u001b[0m\u001b[1;33m+\u001b[0m\u001b[0mvars2plot\u001b[0m\u001b[1;33m[\u001b[0m\u001b[1;36m1\u001b[0m\u001b[1;33m]\u001b[0m\u001b[1;33m,\u001b[0m\u001b[0mfontsize\u001b[0m\u001b[1;33m=\u001b[0m\u001b[1;36m15\u001b[0m\u001b[1;33m)\u001b[0m\u001b[1;33m;\u001b[0m\u001b[1;33m\u001b[0m\u001b[1;33m\u001b[0m\u001b[0m\n",
      "\u001b[1;31mIndexError\u001b[0m: list index out of range"
     ]
    },
    {
     "data": {
      "image/png": "[encoded data removed]",
      "text/plain": [
       "<Figure size 1008x720 with 1 Axes>"
      ]
     },
     "metadata": {
      "needs_background": "light"
     },
     "output_type": "display_data"
    }
   ],
   "source": [
    "### select THREE variables and put them in vars2plot - # format (x, y, z)\n",
    "vars2plot = ['wdir','tdry_degC','rh_percent']\n",
    "print(f'plotting these variables: {vars2plot}')\n",
    "\n",
    "data2plot = [data[:,included_cols.index(var)] for var in vars2plot]\n",
    "print(len(data2plot))\n",
    "\n",
    "## find the integer index of the variable to plot\n",
    "varidx2plot=np.zeros(3,dtype=\"int\")\n",
    "for i in np.arange(0,3):\n",
    "  print(vars2plot[i])\n",
    "  varidx2plot[i]=included_cols.index(vars2plot[i])\n",
    "print(varidx2plot)\n",
    "\n",
    "### Next plot these variables as the original valueswith colors to identify the associated cluster\n",
    "# (red=1, blue=2, grey=3, orange=4)\n",
    "cols = ['','red','blue','grey','orange']\n",
    "fig = plt.figure(figsize=(14, 10))\n",
    "ax = fig.add_subplot(projection='3d')\n",
    "ax.set_title('K-means classification with ' + str(NO_CLUSTERS) + ' Clusters',fontsize=22)\n",
    "for (ind,val) in enumerate(np.transpose(data2plot)):\n",
    "    ax.scatter(val[0],val[1],val[2],\".\", color=cols[idx[ind]])\n",
    "ax.set_xlabel('scaled '+vars2plot[0],fontsize=15);\n",
    "ax.set_ylabel('scaled '+vars2plot[1],fontsize=15);\n",
    "ax.set_zlabel('scaled '+vars2plot[2],fontsize=15);\n",
    "plt.show()"
   ]
  },
  {
   "cell_type": "markdown",
   "metadata": {
    "id": "HH_DverqVj2k"
   },
   "source": [
    "Based on your scatter plots above - When do the variables help (or NOT help) define the clusters?"
   ]
  },
  {
   "cell_type": "markdown",
   "metadata": {
    "id": "Iszyv49SWgED"
   },
   "source": [
    "**STEP 9: Plot histograms of the assigned clusters in the known seasons**. "
   ]
  },
  {
   "cell_type": "code",
   "execution_count": 25,
   "metadata": {
    "colab": {
     "base_uri": "https://localhost:8080/"
    },
    "executionInfo": {
     "elapsed": 7,
     "status": "ok",
     "timestamp": 1648570292845,
     "user": {
      "displayName": "Jennifer Kay",
      "userId": "16174518716664596646"
     },
     "user_tz": 360
    },
    "id": "qpb7injEjut7",
    "outputId": "3b21cb7a-4323-44c8-a997-250d0fbeccfc"
   },
   "outputs": [
    {
     "name": "stdout",
     "output_type": "stream",
     "text": [
      "(2190,)\n",
      "(2190,)\n"
     ]
    }
   ],
   "source": [
    "#### prepare data to plot in the histograms\n",
    "\n",
    "## this is the actual season from the definition in the season dictionary above\n",
    "season_idx=df['season'][df.hour_UTC==selectedhourUTC].to_numpy()\n",
    "print(season_idx.shape)\n",
    "\n",
    "## this is the season from the k-means clustering algorithm\n",
    "print(idx.shape)\n",
    "\n",
    "### find what the k-means clustering assigned in each season\n",
    "\n",
    "## find all of the days in winter, i.e., where season_idx=1\n",
    "winteridx=np.nonzero(np.where(season_idx==1,1,0))\n",
    "#print(winteridx) ### uncomment me to check the code\n",
    "## find what values the k-means classified for this season\n",
    "winter=idx[winteridx]\n",
    "#print(winter)  ### uncomment me to check the code\n",
    "\n",
    "## find all of the days in spring, i.e., where season_idx=2\n",
    "springidx=np.nonzero(np.where(season_idx==2,1,0))\n",
    "## find what values the k-means classified for this season\n",
    "spring=idx[springidx]\n",
    "\n",
    "## find all of the days in summer, i.e., where season_idx=3\n",
    "summeridx=np.nonzero(np.where(season_idx==3,1,0))\n",
    "## find what values the k-means classified for this season\n",
    "summer=idx[summeridx]\n",
    "\n",
    "## find all of the days in fall, i.e., where season_idx=4\n",
    "fallidx=np.nonzero(np.where(season_idx==4,1,0))\n",
    "## find what values the k-means classified for this season\n",
    "fall=idx[fallidx]"
   ]
  },
  {
   "cell_type": "code",
   "execution_count": null,
   "metadata": {
    "colab": {
     "base_uri": "https://localhost:8080/",
     "height": 281
    },
    "executionInfo": {
     "elapsed": 5,
     "status": "ok",
     "timestamp": 1648570292845,
     "user": {
      "displayName": "Jennifer Kay",
      "userId": "16174518716664596646"
     },
     "user_tz": 360
    },
    "id": "iqZlhaJUgSkG",
    "outputId": "e38e37ed-2559-497d-bc0f-de3f6bf8e6dc"
   },
   "outputs": [],
   "source": [
    "### Histogram Type #1 - Compare seasons based on month and based on k-means clustering over the entire year\n",
    "\n",
    "## define bins for the histogram\n",
    "delta= 1                               ## bin size\n",
    "minbin= 0.5                             ## minimum bin value\n",
    "maxbin= 5.5                              ## maximum bin value\n",
    "hist_bins = np.arange(minbin,maxbin,delta) ## bins\n",
    "#print(hist_bins) ## print your histograms to check them\n",
    "\n",
    "#### all data - plot the histogram\n",
    "h, mids = np.histogram(idx,bins=hist_bins);\n",
    "plt.hist(idx,bins=mids,facecolor='white',edgecolor=\"grey\",label='k-means',lw=2);\n",
    "plt.hist(season_idx,bins=mids,facecolor='r',edgecolor=\"r\",label='actual seasons',alpha=0.5,lw=2);\n",
    "plt.ylabel('count')\n",
    "#plt.ylim(0,1000)\n",
    "plt.xticks(np.arange(1,4+1),labels=['cluster1','cluster2','cluster3','cluster4']);\n",
    "plt.legend();\n",
    "plt.title('Month-based seasons (red) vs. Clustering seasons (black)');"
   ]
  },
  {
   "cell_type": "code",
   "execution_count": null,
   "metadata": {
    "colab": {
     "base_uri": "https://localhost:8080/",
     "height": 417
    },
    "executionInfo": {
     "elapsed": 978,
     "status": "ok",
     "timestamp": 1648570293819,
     "user": {
      "displayName": "Jennifer Kay",
      "userId": "16174518716664596646"
     },
     "user_tz": 360
    },
    "id": "YWHeMgZgUQ8v",
    "outputId": "d6a46c06-f334-4a49-a152-c0c427a54752"
   },
   "outputs": [],
   "source": [
    "### Histogram Type #2 - Histograms of seasons based on k-means clustering for each season\n",
    "\n",
    "## define bins for the histogram\n",
    "delta= 1                               ## bin size\n",
    "minbin= 0.5                             ## minimum bin value\n",
    "maxbin= 5.5                              ## maximum bin value\n",
    "hist_bins = np.arange(minbin,maxbin,delta) ## bins\n",
    "#print(hist_bins) ## print your histograms to check them\n",
    "\n",
    "## sanity check = plot the histogram of assigned clusters for winter\n",
    "#h, mids = np.histogram(winter,bins=hist_bins);\n",
    "#labels4xaxis=['cluster1','cluster2','cluster3','cluster4']\n",
    "#plt.figure(figsize=(4,4))\n",
    "#plt.hist(winter,bins=mids,facecolor='w',edgecolor=\"k\");\n",
    "#plt.xticks(np.arange(1,4+1),labels=labels4xaxis);\n",
    "#plt.title('Winter');\n",
    "#plt.show();\n",
    "\n",
    "### Show all seasons using subplots\n",
    "### Help with subplots: https://matplotlib.org/devdocs/gallery/subplots_axes_and_figures/subplots_demo.html\n",
    "\n",
    "labels4xaxis=['','cluster1','cluster2','cluster3','cluster4']\n",
    "\n",
    "fig, ((ax1, ax2), (ax3, ax4)) = plt.subplots(2, 2)\n",
    "fig.suptitle('k-means clustering results - all seasons',fontsize=20)\n",
    "fig.set_figheight(6)\n",
    "fig.set_figwidth(8)\n",
    "\n",
    "ymax=500\n",
    "h, mids = np.histogram(winter,bins=hist_bins);\n",
    "ax1.hist(winter,bins=mids,facecolor='w',edgecolor=\"k\");\n",
    "ax1.set_title(\"winter\");\n",
    "ax1.set_ylabel(\"count\");\n",
    "ax1.set_ylim(0,ymax)\n",
    "h, mids = np.histogram(spring,bins=hist_bins);\n",
    "ax2.hist(spring,bins=mids,facecolor='w',edgecolor=\"k\");\n",
    "ax2.set_title(\"spring\");\n",
    "ax2.set_ylim(0,ymax)\n",
    "h, mids = np.histogram(summer,bins=hist_bins);\n",
    "ax3.hist(summer,bins=mids,facecolor='w',edgecolor=\"k\");\n",
    "ax3.set_title(\"summer\");\n",
    "ax3.set_xticklabels(labels4xaxis);\n",
    "ax3.set_ylabel(\"count\");\n",
    "ax3.set_ylim(0,ymax)\n",
    "h, mids = np.histogram(fall,bins=hist_bins);\n",
    "ax4.hist(fall,bins=mids,facecolor='w',edgecolor=\"k\");\n",
    "ax4.set_title(\"fall\");\n",
    "ax4.set_xticklabels(labels4xaxis);\n",
    "ax4.set_ylim(0,ymax)\n",
    "\n",
    "for ax in fig.get_axes():\n",
    "    ax.label_outer()"
   ]
  },
  {
   "cell_type": "markdown",
   "metadata": {
    "id": "PRf0VL7yX1PM"
   },
   "source": [
    "Based on your plots histograms plotted by season - What clusters are happening in what seasons?  When you use 4 clusters - do they align with our definitions of \"winter\", \"summer\", \"spring\", \"fall\" based on month of the year?  Why or why not?"
   ]
  },
  {
   "cell_type": "code",
   "execution_count": null,
   "metadata": {
    "colab": {
     "base_uri": "https://localhost:8080/",
     "height": 238
    },
    "executionInfo": {
     "elapsed": 6,
     "status": "ok",
     "timestamp": 1648570293819,
     "user": {
      "displayName": "Jennifer Kay",
      "userId": "16174518716664596646"
     },
     "user_tz": 360
    },
    "id": "BIbCYKVharjA",
    "outputId": "e0170675-d0e4-498d-d1a1-1fcf18192ad5"
   },
   "outputs": [],
   "source": [
    "### Add cluster to the data frame and print the values for a given date range\n",
    "\n",
    "### for example you might want to print the days around Labor Day in 2020\n",
    "### these are the days we talked about in the introduction to the application lab...\n",
    "startdate='2020-09-04'\n",
    "enddate='2020-09-11'\n",
    "\n",
    "### or the end of 2021..\n",
    "#startdate='2021-12-01'\n",
    "#enddate='2021-12-31'\n",
    "\n",
    "foo=selectdf.copy()\n",
    "foo['cluster']=idx\n",
    "\n",
    "#print(foo[(foo['day'] > startdate) & (foo['day'] < '2020-09-10')][enddate]);\n",
    "#print(foo[(foo['day'] > startdate) & (foo['day'] < '2020-09-10')][enddate]);\n",
    "\n",
    "foo[(foo['day'] > startdate) & (foo['day'] < enddate)]"
   ]
  },
  {
   "cell_type": "markdown",
   "metadata": {
    "id": "P9Pk2pfzhi3n"
   },
   "source": [
    "What do the clusters show during the time period from September 5-15, 2020 (Labor Day 2020)?  Are the cluster assignments consistent with the weather experienced over that time period?"
   ]
  },
  {
   "cell_type": "markdown",
   "metadata": {
    "id": "DHKolbANaCDL"
   },
   "source": [
    "Make a copy of this notebook, and re-run the analysis.  But now use three clusters instead of four clusters. Compare your cluster analyses for 4 clusters and 3 clusters.  Do the results for 4 clusters or 3 clusters make more sense to you based on your analysis and also your experience living in Boulder, Colorado?  Which number of clusters provides a better fit to the data?"
   ]
  },
  {
   "cell_type": "code",
   "execution_count": null,
   "metadata": {
    "executionInfo": {
     "elapsed": 6,
     "status": "ok",
     "timestamp": 1648570293820,
     "user": {
      "displayName": "Jennifer Kay",
      "userId": "16174518716664596646"
     },
     "user_tz": 360
    },
    "id": "pqUbcBnmhyy5"
   },
   "outputs": [],
   "source": []
  },
  {
   "cell_type": "code",
   "execution_count": null,
   "metadata": {
    "executionInfo": {
     "elapsed": 5,
     "status": "ok",
     "timestamp": 1648570293820,
     "user": {
      "displayName": "Jennifer Kay",
      "userId": "16174518716664596646"
     },
     "user_tz": 360
    },
    "id": "Rq_H0OEfbQ1R"
   },
   "outputs": [],
   "source": []
  },
  {
   "cell_type": "code",
   "execution_count": null,
   "metadata": {
    "executionInfo": {
     "elapsed": 5,
     "status": "ok",
     "timestamp": 1648570293820,
     "user": {
      "displayName": "Jennifer Kay",
      "userId": "16174518716664596646"
     },
     "user_tz": 360
    },
    "id": "u8r_gDlYb-3t"
   },
   "outputs": [],
   "source": []
  },
  {
   "cell_type": "code",
   "execution_count": null,
   "metadata": {
    "executionInfo": {
     "elapsed": 5,
     "status": "ok",
     "timestamp": 1648570293820,
     "user": {
      "displayName": "Jennifer Kay",
      "userId": "16174518716664596646"
     },
     "user_tz": 360
    },
    "id": "la7DO7uGc6yA"
   },
   "outputs": [],
   "source": []
  },
  {
   "cell_type": "code",
   "execution_count": null,
   "metadata": {
    "executionInfo": {
     "elapsed": 6,
     "status": "ok",
     "timestamp": 1648570293821,
     "user": {
      "displayName": "Jennifer Kay",
      "userId": "16174518716664596646"
     },
     "user_tz": 360
    },
    "id": "0N5XgS7idJ2D"
   },
   "outputs": [],
   "source": []
  }
 ],
 "metadata": {
  "colab": {
   "collapsed_sections": [],
   "name": "ATOC4500_homework4_solutions.ipynb",
   "provenance": []
  },
  "kernelspec": {
   "display_name": "Python 3 (ipykernel)",
   "language": "python",
   "name": "python3"
  },
  "language_info": {
   "codemirror_mode": {
    "name": "ipython",
    "version": 3
   },
   "file_extension": ".py",
   "mimetype": "text/x-python",
   "name": "python",
   "nbconvert_exporter": "python",
   "pygments_lexer": "ipython3",
   "version": "3.8.11"
  }
 },
 "nbformat": 4,
 "nbformat_minor": 4
}
